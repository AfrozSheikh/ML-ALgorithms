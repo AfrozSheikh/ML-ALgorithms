{
 "cells": [
  {
   "cell_type": "code",
   "execution_count": null,
   "metadata": {},
   "outputs": [],
   "source": [
    "import pandas as pd \n",
    "import numpy as np \n",
    "import matplotlib.pyplot as plt \n",
    "import seaborn as sns \n",
    "df = pd.read_excel('flight_price.xlsx')\n"
   ]
  },
  {
   "cell_type": "code",
   "execution_count": null,
   "metadata": {},
   "outputs": [],
   "source": [
    "df.info()"
   ]
  },
  {
   "cell_type": "code",
   "execution_count": null,
   "metadata": {},
   "outputs": [],
   "source": [
    "df['dates'] = df['Date_of_Journey'].str.split('/').str[0].astype(int)\n",
    "\n",
    "df['month'] = df['Date_of_Journey'].str.split('/').str[1].astype(int)\n",
    "df['year'] = df['Date_of_Journey'].str.split('/').str[2].astype(int)"
   ]
  },
  {
   "cell_type": "code",
   "execution_count": null,
   "metadata": {},
   "outputs": [],
   "source": [
    "df.drop('Date_of_Journey',axis=1 , inplace=True)\n"
   ]
  },
  {
   "cell_type": "code",
   "execution_count": null,
   "metadata": {},
   "outputs": [],
   "source": [
    "df['Arrival_hours'] = df['Arrival_Time'].str.split(' ').str[0].str.split(':').str[0].astype(int)\n",
    "df['Arrival_minutes'] = df['Arrival_Time'].str.split(' ').str[0].str.split(':').str[1].astype(int)\n",
    "df.drop('Arrival_Time' , axis=1 , inplace=True)"
   ]
  },
  {
   "cell_type": "code",
   "execution_count": null,
   "metadata": {},
   "outputs": [],
   "source": [
    "df['Arrival_hours'] = df['Arrival_hours'].astype(int)\n",
    "df['Arrival_minutes'] = df['Arrival_minutes'].astype(int)\n"
   ]
  },
  {
   "cell_type": "code",
   "execution_count": null,
   "metadata": {},
   "outputs": [],
   "source": [
    "df['Dep_hour'] = df['Dep_Time'].str.split(':').str[0].astype(int)\n",
    "df['Dept_min'] = df['Dep_Time'].str.split(':').str[1].astype(int)\n",
    "df.drop('Dep_Time' , axis=1 , inplace=True)\n",
    "df.drop('hours' , axis=1 , inplace=True)\n"
   ]
  },
  {
   "cell_type": "code",
   "execution_count": null,
   "metadata": {},
   "outputs": [],
   "source": [
    "df.info()"
   ]
  },
  {
   "cell_type": "code",
   "execution_count": null,
   "metadata": {},
   "outputs": [],
   "source": [
    "df['Total_Stops'].unique()\n",
    "df['Total_Stops'].mode()"
   ]
  },
  {
   "cell_type": "markdown",
   "metadata": {},
   "source": [
    "- nan cam be replaced by mode because mode occurs most times \n"
   ]
  },
  {
   "cell_type": "code",
   "execution_count": null,
   "metadata": {},
   "outputs": [],
   "source": [
    "df['Total_Stops'] = df['Total_Stops'].map({'non-stop':0 , '1 stop' : 1 , '2 stops': 2  ,'3 stops': 3 , '4 stops': 4  , np.nan:1  })"
   ]
  },
  {
   "cell_type": "code",
   "execution_count": null,
   "metadata": {},
   "outputs": [],
   "source": [
    "df['Total_Stops'].unique()\n",
    "df.head()"
   ]
  },
  {
   "cell_type": "code",
   "execution_count": null,
   "metadata": {},
   "outputs": [],
   "source": [
    "from sklearn.preprocessing import OneHotEncoder\n",
    "encoder = OneHotEncoder() \n",
    "pd.DataFrame(encoder.fit_transform(df[['Airline' , 'Source' , 'Destination']]).toarray() , columns=encoder.get_feature_names_out())\n",
    "\n"
   ]
  }
 ],
 "metadata": {
  "kernelspec": {
   "display_name": "Python 3",
   "language": "python",
   "name": "python3"
  },
  "language_info": {
   "codemirror_mode": {
    "name": "ipython",
    "version": 3
   },
   "file_extension": ".py",
   "mimetype": "text/x-python",
   "name": "python",
   "nbconvert_exporter": "python",
   "pygments_lexer": "ipython3",
   "version": "3.12.4"
  }
 },
 "nbformat": 4,
 "nbformat_minor": 2
}
