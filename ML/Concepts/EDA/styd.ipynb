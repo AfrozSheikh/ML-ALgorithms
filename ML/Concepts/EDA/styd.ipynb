{
 "cells": [
  {
   "cell_type": "code",
   "execution_count": null,
   "metadata": {},
   "outputs": [],
   "source": [
    "import pandas as pd \n",
    "import matplotlib.pyplot as plt \n",
    "import seaborn as sns \n",
    "import matplotlib.pyplot as plt\n",
    "df  = pd.read_csv('StudentsPerformance_ CSV DATA.csv')\n"
   ]
  },
  {
   "cell_type": "code",
   "execution_count": null,
   "metadata": {},
   "outputs": [],
   "source": [
    "# getting all categorical features \n",
    "categorical_data = [feature for feature in df.columns if df[feature].dtype =='O']\n",
    "int_data = [feature for feature in df.columns if df[feature].dtype !='O']\n",
    "\n",
    "df['totalScore'] = (df['math_score']+ df['reading_score']+df['writing_score'])\n",
    "df['average'] = df['totalScore']/3\n",
    "numeric_df = df.select_dtypes(include='number')\n",
    "sns.heatmap(numeric_df.corr() ,annot=True)"
   ]
  },
  {
   "cell_type": "code",
   "execution_count": null,
   "metadata": {},
   "outputs": [],
   "source": [
    "# exploring more visulaiztiion \n",
    "fig,axis = plt.subplots(1,2,figsize=(15,7))\n",
    "plt.subplot(121)\n",
    "sns.histplot(data = df , x = 'average' , bins = 30 , kde=True , color='g') \n",
    "plt.subplot(122)\n",
    "sns.histplot(data = df , x = 'average' , hue='gender',  bins = 30 , kde=True , color='o')"
   ]
  },
  {
   "cell_type": "markdown",
   "metadata": {},
   "source": [
    "##\n",
    "- Female students perform well than male "
   ]
  },
  {
   "cell_type": "code",
   "execution_count": null,
   "metadata": {},
   "outputs": [],
   "source": [
    "plt.subplots(1,3,figsize=(15,15))\n",
    "plt.subplot(131)\n",
    "sns.histplot(data=df , x ='average' , kde= True , hue='lunch')\n",
    "plt.subplot(132)\n",
    "sns.histplot(data=df[df.gender=='female'] , x ='average' , kde= True , hue='lunch')\n",
    "plt.subplot(133)\n",
    "sns.histplot(data=df[df.gender=='male'] , x ='average' , kde= True , hue='lunch')"
   ]
  },
  {
   "cell_type": "markdown",
   "metadata": {},
   "source": [
    "## Insights\n",
    "- standard lunch help students perform well in exams either its male or female"
   ]
  }
 ],
 "metadata": {
  "kernelspec": {
   "display_name": "Python 3",
   "language": "python",
   "name": "python3"
  },
  "language_info": {
   "codemirror_mode": {
    "name": "ipython",
    "version": 3
   },
   "file_extension": ".py",
   "mimetype": "text/x-python",
   "name": "python",
   "nbconvert_exporter": "python",
   "pygments_lexer": "ipython3",
   "version": "3.12.4"
  }
 },
 "nbformat": 4,
 "nbformat_minor": 2
}
